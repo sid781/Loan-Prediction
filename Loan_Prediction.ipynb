{
  "nbformat": 4,
  "nbformat_minor": 0,
  "metadata": {
    "colab": {
      "name": "Loan_Prediction.ipynb",
      "provenance": [],
      "collapsed_sections": [],
      "toc_visible": true,
      "authorship_tag": "ABX9TyPMDXn3VeIaH1042WCO6Ini",
      "include_colab_link": true
    },
    "kernelspec": {
      "display_name": "Python 3",
      "name": "python3"
    },
    "language_info": {
      "name": "python"
    }
  },
  "cells": [
    {
      "cell_type": "markdown",
      "metadata": {
        "id": "view-in-github",
        "colab_type": "text"
      },
      "source": [
        "<a href=\"https://colab.research.google.com/github/sid781/Loan-Prediction/blob/master/Loan_Prediction.ipynb\" target=\"_parent\"><img src=\"https://colab.research.google.com/assets/colab-badge.svg\" alt=\"Open In Colab\"/></a>"
      ]
    },
    {
      "cell_type": "markdown",
      "metadata": {
        "id": "haVD5AYHLuyF"
      },
      "source": [
        "Importing Library"
      ]
    },
    {
      "cell_type": "code",
      "metadata": {
        "id": "CpC6fRGoIN4q"
      },
      "source": [
        "import numpy as np\n",
        "import matplotlib.pyplot as plt\n",
        "import pandas as pd\n",
        "import seaborn as sns"
      ],
      "execution_count": null,
      "outputs": []
    },
    {
      "cell_type": "code",
      "metadata": {
        "id": "YSzGFpNJJCEd"
      },
      "source": [
        "df_train = pd.read_csv(\"train.csv\")\n",
        "df_test = pd.read_csv(\"test.csv\")"
      ],
      "execution_count": null,
      "outputs": []
    },
    {
      "cell_type": "code",
      "metadata": {
        "id": "hkJONZVqHr89"
      },
      "source": [
        "train = df_train.copy()\n",
        "test = df_test.copy()"
      ],
      "execution_count": null,
      "outputs": []
    },
    {
      "cell_type": "markdown",
      "metadata": {
        "id": "r8qDym4fDyUm"
      },
      "source": [
        "Numerical Columns"
      ]
    },
    {
      "cell_type": "code",
      "metadata": {
        "colab": {
          "base_uri": "https://localhost:8080/",
          "height": 204
        },
        "id": "qq9TFht1T1uE",
        "outputId": "e221e78d-72f1-4dc8-d883-27608565fd9c"
      },
      "source": [
        "num = train.select_dtypes(exclude=['object']).columns\n",
        "train[num].head()"
      ],
      "execution_count": null,
      "outputs": [
        {
          "output_type": "execute_result",
          "data": {
            "text/html": [
              "<div>\n",
              "<style scoped>\n",
              "    .dataframe tbody tr th:only-of-type {\n",
              "        vertical-align: middle;\n",
              "    }\n",
              "\n",
              "    .dataframe tbody tr th {\n",
              "        vertical-align: top;\n",
              "    }\n",
              "\n",
              "    .dataframe thead th {\n",
              "        text-align: right;\n",
              "    }\n",
              "</style>\n",
              "<table border=\"1\" class=\"dataframe\">\n",
              "  <thead>\n",
              "    <tr style=\"text-align: right;\">\n",
              "      <th></th>\n",
              "      <th>ApplicantIncome</th>\n",
              "      <th>CoapplicantIncome</th>\n",
              "      <th>LoanAmount</th>\n",
              "      <th>Loan_Amount_Term</th>\n",
              "      <th>Credit_History</th>\n",
              "    </tr>\n",
              "  </thead>\n",
              "  <tbody>\n",
              "    <tr>\n",
              "      <th>0</th>\n",
              "      <td>5849</td>\n",
              "      <td>0.0</td>\n",
              "      <td>NaN</td>\n",
              "      <td>360.0</td>\n",
              "      <td>1.0</td>\n",
              "    </tr>\n",
              "    <tr>\n",
              "      <th>1</th>\n",
              "      <td>4583</td>\n",
              "      <td>1508.0</td>\n",
              "      <td>128.0</td>\n",
              "      <td>360.0</td>\n",
              "      <td>1.0</td>\n",
              "    </tr>\n",
              "    <tr>\n",
              "      <th>2</th>\n",
              "      <td>3000</td>\n",
              "      <td>0.0</td>\n",
              "      <td>66.0</td>\n",
              "      <td>360.0</td>\n",
              "      <td>1.0</td>\n",
              "    </tr>\n",
              "    <tr>\n",
              "      <th>3</th>\n",
              "      <td>2583</td>\n",
              "      <td>2358.0</td>\n",
              "      <td>120.0</td>\n",
              "      <td>360.0</td>\n",
              "      <td>1.0</td>\n",
              "    </tr>\n",
              "    <tr>\n",
              "      <th>4</th>\n",
              "      <td>6000</td>\n",
              "      <td>0.0</td>\n",
              "      <td>141.0</td>\n",
              "      <td>360.0</td>\n",
              "      <td>1.0</td>\n",
              "    </tr>\n",
              "  </tbody>\n",
              "</table>\n",
              "</div>"
            ],
            "text/plain": [
              "   ApplicantIncome  CoapplicantIncome  ...  Loan_Amount_Term  Credit_History\n",
              "0             5849                0.0  ...             360.0             1.0\n",
              "1             4583             1508.0  ...             360.0             1.0\n",
              "2             3000                0.0  ...             360.0             1.0\n",
              "3             2583             2358.0  ...             360.0             1.0\n",
              "4             6000                0.0  ...             360.0             1.0\n",
              "\n",
              "[5 rows x 5 columns]"
            ]
          },
          "metadata": {
            "tags": []
          },
          "execution_count": 4
        }
      ]
    },
    {
      "cell_type": "code",
      "metadata": {
        "id": "bOFv1P5tfT0E"
      },
      "source": [
        "term = train[num].iloc[:,-2:].columns\n",
        "income=train[num].iloc[:,:-2].columns"
      ],
      "execution_count": null,
      "outputs": []
    },
    {
      "cell_type": "markdown",
      "metadata": {
        "id": "Hma9ixECOawK"
      },
      "source": [
        "Categorical columns"
      ]
    },
    {
      "cell_type": "code",
      "metadata": {
        "colab": {
          "base_uri": "https://localhost:8080/",
          "height": 204
        },
        "id": "w0Yts7fUN2hc",
        "outputId": "02708754-a9f6-47a0-9dc5-081ddfe24416"
      },
      "source": [
        "cat = train.select_dtypes(include=['object']).columns[1:-1]\n",
        "train[cat].head()"
      ],
      "execution_count": null,
      "outputs": [
        {
          "output_type": "execute_result",
          "data": {
            "text/html": [
              "<div>\n",
              "<style scoped>\n",
              "    .dataframe tbody tr th:only-of-type {\n",
              "        vertical-align: middle;\n",
              "    }\n",
              "\n",
              "    .dataframe tbody tr th {\n",
              "        vertical-align: top;\n",
              "    }\n",
              "\n",
              "    .dataframe thead th {\n",
              "        text-align: right;\n",
              "    }\n",
              "</style>\n",
              "<table border=\"1\" class=\"dataframe\">\n",
              "  <thead>\n",
              "    <tr style=\"text-align: right;\">\n",
              "      <th></th>\n",
              "      <th>Gender</th>\n",
              "      <th>Married</th>\n",
              "      <th>Dependents</th>\n",
              "      <th>Education</th>\n",
              "      <th>Self_Employed</th>\n",
              "      <th>Property_Area</th>\n",
              "    </tr>\n",
              "  </thead>\n",
              "  <tbody>\n",
              "    <tr>\n",
              "      <th>0</th>\n",
              "      <td>Male</td>\n",
              "      <td>No</td>\n",
              "      <td>0</td>\n",
              "      <td>Graduate</td>\n",
              "      <td>No</td>\n",
              "      <td>Urban</td>\n",
              "    </tr>\n",
              "    <tr>\n",
              "      <th>1</th>\n",
              "      <td>Male</td>\n",
              "      <td>Yes</td>\n",
              "      <td>1</td>\n",
              "      <td>Graduate</td>\n",
              "      <td>No</td>\n",
              "      <td>Rural</td>\n",
              "    </tr>\n",
              "    <tr>\n",
              "      <th>2</th>\n",
              "      <td>Male</td>\n",
              "      <td>Yes</td>\n",
              "      <td>0</td>\n",
              "      <td>Graduate</td>\n",
              "      <td>Yes</td>\n",
              "      <td>Urban</td>\n",
              "    </tr>\n",
              "    <tr>\n",
              "      <th>3</th>\n",
              "      <td>Male</td>\n",
              "      <td>Yes</td>\n",
              "      <td>0</td>\n",
              "      <td>Not Graduate</td>\n",
              "      <td>No</td>\n",
              "      <td>Urban</td>\n",
              "    </tr>\n",
              "    <tr>\n",
              "      <th>4</th>\n",
              "      <td>Male</td>\n",
              "      <td>No</td>\n",
              "      <td>0</td>\n",
              "      <td>Graduate</td>\n",
              "      <td>No</td>\n",
              "      <td>Urban</td>\n",
              "    </tr>\n",
              "  </tbody>\n",
              "</table>\n",
              "</div>"
            ],
            "text/plain": [
              "  Gender Married Dependents     Education Self_Employed Property_Area\n",
              "0   Male      No          0      Graduate            No         Urban\n",
              "1   Male     Yes          1      Graduate            No         Rural\n",
              "2   Male     Yes          0      Graduate           Yes         Urban\n",
              "3   Male     Yes          0  Not Graduate            No         Urban\n",
              "4   Male      No          0      Graduate            No         Urban"
            ]
          },
          "metadata": {
            "tags": []
          },
          "execution_count": 6
        }
      ]
    },
    {
      "cell_type": "markdown",
      "metadata": {
        "id": "9NIMf9rvNdWM"
      },
      "source": [
        "Missing Values"
      ]
    },
    {
      "cell_type": "code",
      "metadata": {
        "id": "8WCdSOrNWZAK"
      },
      "source": [
        "#help(SimpleImputer())"
      ],
      "execution_count": null,
      "outputs": []
    },
    {
      "cell_type": "code",
      "metadata": {
        "id": "_PtPMJKmUWa0"
      },
      "source": [
        "from sklearn.impute import SimpleImputer\n",
        "imputer_inc= SimpleImputer(missing_values = np.nan, strategy='mean' ,verbose = 0)\n",
        "train[income]= imputer_inc.fit_transform(train[income])\n",
        "test[income]= imputer_inc.transform(test[income])"
      ],
      "execution_count": null,
      "outputs": []
    },
    {
      "cell_type": "code",
      "metadata": {
        "id": "JOlIydutIRbC"
      },
      "source": [
        "imputer_term= SimpleImputer(missing_values = np.nan, strategy='most_frequent' ,verbose = 0)\n",
        "train[term]= imputer_term.fit_transform(train[term])\n",
        "test[term]= imputer_term.transform(test[term])"
      ],
      "execution_count": null,
      "outputs": []
    },
    {
      "cell_type": "code",
      "metadata": {
        "id": "FDS-rJGDPsoY"
      },
      "source": [
        "#help(df.dropna)\n",
        "train.dropna(axis=0, how='any', subset=cat, inplace=True)\n",
        "test.dropna(axis=0, how='any', subset=cat, inplace=True)"
      ],
      "execution_count": null,
      "outputs": []
    },
    {
      "cell_type": "code",
      "metadata": {
        "colab": {
          "base_uri": "https://localhost:8080/"
        },
        "id": "xXFj-d8mXNZx",
        "outputId": "a504f847-c9f9-4eda-ef80-3d6718b323ad"
      },
      "source": [
        "train.shape, test.shape"
      ],
      "execution_count": null,
      "outputs": [
        {
          "output_type": "execute_result",
          "data": {
            "text/plain": [
              "((554, 13), (324, 12))"
            ]
          },
          "metadata": {
            "tags": []
          },
          "execution_count": 11
        }
      ]
    },
    {
      "cell_type": "markdown",
      "metadata": {
        "id": "OLFf_tPPMOS7"
      },
      "source": [
        "Variable Seperation"
      ]
    },
    {
      "cell_type": "code",
      "metadata": {
        "id": "YwSgF_4OJXx8"
      },
      "source": [
        "X_train= train.iloc[:,1:-1].values\n",
        "y_train = train.iloc[:,-1].values\n",
        "X_test = test.iloc[:,1:].values"
      ],
      "execution_count": null,
      "outputs": []
    },
    {
      "cell_type": "code",
      "metadata": {
        "colab": {
          "base_uri": "https://localhost:8080/"
        },
        "id": "dBaNhXzRJa3y",
        "outputId": "f1a6977f-3db8-4865-e88e-59b86e7b5b6f"
      },
      "source": [
        "X_train.shape"
      ],
      "execution_count": null,
      "outputs": [
        {
          "output_type": "execute_result",
          "data": {
            "text/plain": [
              "(554, 11)"
            ]
          },
          "metadata": {
            "tags": []
          },
          "execution_count": 13
        }
      ]
    },
    {
      "cell_type": "code",
      "metadata": {
        "colab": {
          "base_uri": "https://localhost:8080/"
        },
        "id": "6FVJIZr7A52Z",
        "outputId": "5aa9b687-5091-4394-b140-d2dbc5b5e1ee"
      },
      "source": [
        "X_test.shape"
      ],
      "execution_count": null,
      "outputs": [
        {
          "output_type": "execute_result",
          "data": {
            "text/plain": [
              "(324, 11)"
            ]
          },
          "metadata": {
            "tags": []
          },
          "execution_count": 14
        }
      ]
    },
    {
      "cell_type": "code",
      "metadata": {
        "colab": {
          "base_uri": "https://localhost:8080/"
        },
        "id": "i_h4f0sBCrBE",
        "outputId": "cb14c6bc-2de9-4fc6-b871-5538b866d403"
      },
      "source": [
        "y_train.shape"
      ],
      "execution_count": null,
      "outputs": [
        {
          "output_type": "execute_result",
          "data": {
            "text/plain": [
              "(554,)"
            ]
          },
          "metadata": {
            "tags": []
          },
          "execution_count": 15
        }
      ]
    },
    {
      "cell_type": "markdown",
      "metadata": {
        "id": "aN_P7uNOuTm2"
      },
      "source": [
        "Train-test Split"
      ]
    },
    {
      "cell_type": "code",
      "metadata": {
        "id": "2cB17IDwuS5H"
      },
      "source": [
        "# from sklearn.model_selection import train_test_split"
      ],
      "execution_count": null,
      "outputs": []
    },
    {
      "cell_type": "markdown",
      "metadata": {
        "id": "ffpKPXYtTJQx"
      },
      "source": [
        "Visualisation"
      ]
    },
    {
      "cell_type": "code",
      "metadata": {
        "colab": {
          "base_uri": "https://localhost:8080/",
          "height": 373
        },
        "id": "q1Ej-gaReZ6q",
        "outputId": "b120480b-4651-45c8-f501-7c1b7e72f65d"
      },
      "source": [
        "sns.heatmap(train[num].corr())"
      ],
      "execution_count": null,
      "outputs": [
        {
          "output_type": "execute_result",
          "data": {
            "text/plain": [
              "<matplotlib.axes._subplots.AxesSubplot at 0x7ff9788f0950>"
            ]
          },
          "metadata": {
            "tags": []
          },
          "execution_count": 19
        },
        {
          "output_type": "display_data",
          "data": {
            "image/png": "[encoded data removed]",
            "text/plain": [
              "<Figure size 432x288 with 2 Axes>"
            ]
          },
          "metadata": {
            "tags": []
          }
        }
      ]
    },
    {
      "cell_type": "markdown",
      "metadata": {
        "id": "cG9p4U21MSd3"
      },
      "source": [
        "Encoding of variables"
      ]
    },
    {
      "cell_type": "code",
      "metadata": {
        "id": "J8w2WLAiMMPv"
      },
      "source": [
        "from sklearn.preprocessing import LabelEncoder, OneHotEncoder\n",
        "from sklearn.compose import ColumnTransformer\n",
        "\n",
        "label = LabelEncoder()\n",
        "\n",
        "y_train = label.fit_transform(y_train)"
      ],
      "execution_count": null,
      "outputs": []
    },
    {
      "cell_type": "code",
      "metadata": {
        "colab": {
          "base_uri": "https://localhost:8080/"
        },
        "id": "qYYHjzv-lGfj",
        "outputId": "1d4bb9ce-9b2d-46ea-bf86-d11f9fd1ddc6"
      },
      "source": [
        "y_train[:5]"
      ],
      "execution_count": null,
      "outputs": [
        {
          "output_type": "execute_result",
          "data": {
            "text/plain": [
              "array([1, 0, 1, 1, 1])"
            ]
          },
          "metadata": {
            "tags": []
          },
          "execution_count": 21
        }
      ]
    },
    {
      "cell_type": "code",
      "metadata": {
        "id": "OuKcYsjdjeqd"
      },
      "source": [
        "#help(OneHotEncoder)\n",
        "onehot = OneHotEncoder()\n",
        "\n",
        "ct = ColumnTransformer([('encoder', onehot, [0, 1, 2, 3, 4, 10])], remainder='passthrough')\n",
        "X_train = np.array(ct.fit_transform(X_train))\n",
        "X_test = np.array(ct.transform(X_test))"
      ],
      "execution_count": null,
      "outputs": []
    },
    {
      "cell_type": "code",
      "metadata": {
        "colab": {
          "base_uri": "https://localhost:8080/"
        },
        "id": "NlrWsqsymkn7",
        "outputId": "2222a2cb-979a-4d75-8617-7ee92ec7343e"
      },
      "source": [
        "X_train.shape, X_test.shape"
      ],
      "execution_count": null,
      "outputs": [
        {
          "output_type": "execute_result",
          "data": {
            "text/plain": [
              "((554, 20), (324, 20))"
            ]
          },
          "metadata": {
            "tags": []
          },
          "execution_count": 23
        }
      ]
    },
    {
      "cell_type": "code",
      "metadata": {
        "colab": {
          "base_uri": "https://localhost:8080/"
        },
        "id": "07op_2UumlFD",
        "outputId": "5807f8a4-2498-49f4-de11-587f33de5fe0"
      },
      "source": [
        "X_train[1], X_test[1]"
      ],
      "execution_count": null,
      "outputs": [
        {
          "output_type": "execute_result",
          "data": {
            "text/plain": [
              "(array([0.0, 1.0, 0.0, 1.0, 0.0, 1.0, 0.0, 0.0, 1.0, 0.0, 1.0, 0.0, 1.0,\n",
              "        0.0, 0.0, 4583.0, 1508.0, 128.0, 360.0, 1.0], dtype=object),\n",
              " array([0.0, 1.0, 0.0, 1.0, 0.0, 1.0, 0.0, 0.0, 1.0, 0.0, 1.0, 0.0, 0.0,\n",
              "        0.0, 1.0, 3076.0, 1500.0, 126.0, 360.0, 1.0], dtype=object))"
            ]
          },
          "metadata": {
            "tags": []
          },
          "execution_count": 24
        }
      ]
    },
    {
      "cell_type": "markdown",
      "metadata": {
        "id": "LL92S09fou51"
      },
      "source": [
        "Feature Scaling"
      ]
    },
    {
      "cell_type": "code",
      "metadata": {
        "id": "MYfH8220ort6"
      },
      "source": [
        "from sklearn.preprocessing import StandardScaler\n",
        "sc = StandardScaler()\n",
        "X_train[-5:] = sc.fit_transform(X_train[-5:])\n",
        "X_test[-5:] = sc.transform(X_test[-5:])"
      ],
      "execution_count": null,
      "outputs": []
    },
    {
      "cell_type": "markdown",
      "metadata": {
        "id": "AQ5j382tqZuN"
      },
      "source": [
        "Training"
      ]
    },
    {
      "cell_type": "code",
      "metadata": {
        "colab": {
          "base_uri": "https://localhost:8080/"
        },
        "id": "SqloZpk7qG_G",
        "outputId": "1df1e9f6-8eac-454e-8282-79903ec728dd"
      },
      "source": [
        "from sklearn.linear_model import LogisticRegression\n",
        "classifier = LogisticRegression(max_iter=200, random_state=0)\n",
        "classifier.fit(X_train, y_train)"
      ],
      "execution_count": null,
      "outputs": [
        {
          "output_type": "execute_result",
          "data": {
            "text/plain": [
              "LogisticRegression(C=1.0, class_weight=None, dual=False, fit_intercept=True,\n",
              "                   intercept_scaling=1, l1_ratio=None, max_iter=200,\n",
              "                   multi_class='auto', n_jobs=None, penalty='l2',\n",
              "                   random_state=0, solver='lbfgs', tol=0.0001, verbose=0,\n",
              "                   warm_start=False)"
            ]
          },
          "metadata": {
            "tags": []
          },
          "execution_count": 26
        }
      ]
    },
    {
      "cell_type": "markdown",
      "metadata": {
        "id": "iaBZGk_rqb1b"
      },
      "source": [
        "Prediction"
      ]
    },
    {
      "cell_type": "code",
      "metadata": {
        "colab": {
          "base_uri": "https://localhost:8080/"
        },
        "id": "FPoE8MbaqWqC",
        "outputId": "c56faef9-6cac-4244-8a87-4d24561b2dd5"
      },
      "source": [
        "y_pred = classifier.predict(X_test)\n",
        "y_pred"
      ],
      "execution_count": null,
      "outputs": [
        {
          "output_type": "execute_result",
          "data": {
            "text/plain": [
              "array([1, 1, 1, 1, 1, 1, 1, 0, 1, 1, 1, 1, 1, 1, 1, 1, 1, 1, 1, 1, 1, 0,\n",
              "       1, 1, 1, 1, 1, 1, 1, 1, 1, 0, 1, 1, 1, 1, 1, 1, 1, 1, 1, 1, 1, 1,\n",
              "       1, 1, 1, 1, 0, 1, 1, 0, 1, 1, 1, 1, 0, 1, 1, 0, 0, 1, 0, 1, 1, 1,\n",
              "       1, 1, 1, 1, 1, 0, 1, 0, 1, 0, 1, 1, 1, 1, 1, 1, 1, 1, 0, 1, 1, 1,\n",
              "       1, 1, 1, 0, 1, 1, 1, 1, 1, 1, 1, 1, 1, 1, 1, 1, 1, 0, 0, 0, 1, 1,\n",
              "       1, 0, 0, 1, 0, 1, 1, 1, 1, 1, 1, 1, 1, 1, 1, 1, 1, 0, 1, 1, 1, 1,\n",
              "       1, 0, 1, 1, 1, 1, 1, 0, 1, 1, 1, 1, 1, 1, 1, 1, 1, 1, 0, 0, 1, 1,\n",
              "       1, 1, 1, 0, 0, 1, 1, 1, 1, 1, 1, 1, 1, 1, 1, 1, 1, 1, 1, 1, 1, 0,\n",
              "       1, 1, 0, 1, 0, 1, 1, 1, 1, 1, 1, 1, 1, 1, 1, 0, 1, 1, 1, 1, 1, 1,\n",
              "       1, 1, 1, 1, 1, 1, 0, 1, 1, 1, 1, 0, 1, 1, 1, 1, 0, 0, 1, 1, 1, 1,\n",
              "       0, 1, 1, 1, 1, 1, 0, 1, 1, 1, 1, 1, 1, 1, 1, 1, 1, 1, 0, 1, 0, 1,\n",
              "       1, 1, 1, 0, 0, 1, 1, 1, 1, 1, 1, 1, 1, 1, 1, 1, 1, 1, 0, 1, 1, 1,\n",
              "       1, 1, 1, 1, 1, 1, 1, 1, 0, 1, 1, 1, 1, 0, 1, 1, 1, 1, 1, 0, 1, 1,\n",
              "       1, 1, 1, 1, 1, 1, 1, 1, 1, 1, 0, 1, 1, 1, 1, 1, 1, 0, 1, 1, 1, 1,\n",
              "       1, 1, 1, 0, 1, 1, 1, 1, 1, 1, 1, 1, 1, 1, 1, 1])"
            ]
          },
          "metadata": {
            "tags": []
          },
          "execution_count": 27
        }
      ]
    },
    {
      "cell_type": "code",
      "metadata": {
        "colab": {
          "background_save": true,
          "base_uri": "https://localhost:8080/"
        },
        "id": "oSo8TWHy1L5l",
        "outputId": "1b898687-0d69-453f-cf05-37606e9a2ed7"
      },
      "source": [
        "from sklearn.model_selection import cross_val_score\n",
        "#help(cross_val_score)\n",
        "# accuracies = cross_val_score(estimator = classifier, X = X_train, y = y_train, cv = 10)\n",
        "# print(accuracies.mean())\n",
        "# print(accuracies.std())"
      ],
      "execution_count": null,
      "outputs": [
        {
          "output_type": "stream",
          "text": [
            "/usr/local/lib/python3.7/dist-packages/sklearn/linear_model/_logistic.py:940: ConvergenceWarning: lbfgs failed to converge (status=1):\n",
            "STOP: TOTAL NO. of ITERATIONS REACHED LIMIT.\n",
            "\n",
            "Increase the number of iterations (max_iter) or scale the data as shown in:\n",
            "    https://scikit-learn.org/stable/modules/preprocessing.html\n",
            "Please also refer to the documentation for alternative solver options:\n",
            "    https://scikit-learn.org/stable/modules/linear_model.html#logistic-regression\n",
            "  extra_warning_msg=_LOGISTIC_SOLVER_CONVERGENCE_MSG)\n"
          ],
          "name": "stderr"
        },
        {
          "output_type": "stream",
          "text": [
            "0.807012987012987\n",
            "0.04487623767327064\n"
          ],
          "name": "stdout"
        }
      ]
    },
    {
      "cell_type": "code",
      "metadata": {
        "id": "Jz4ebsqbOHeU"
      },
      "source": [
        "target = []\n",
        "for i in y_pred:\n",
        "  if i==1: \n",
        "    target.append('Y')\n",
        "  else:\n",
        "    target.append('N')"
      ],
      "execution_count": 33,
      "outputs": []
    },
    {
      "cell_type": "code",
      "metadata": {
        "id": "odjE5BlTQ1h9",
        "colab": {
          "base_uri": "https://localhost:8080/"
        },
        "outputId": "3f989f09-513c-4b50-b512-1675b5f4d5d1"
      },
      "source": [
        "target"
      ],
      "execution_count": 34,
      "outputs": [
        {
          "output_type": "execute_result",
          "data": {
            "text/plain": [
              "['Y',\n",
              " 'Y',\n",
              " 'Y',\n",
              " 'Y',\n",
              " 'Y',\n",
              " 'Y',\n",
              " 'Y',\n",
              " 'N',\n",
              " 'Y',\n",
              " 'Y',\n",
              " 'Y',\n",
              " 'Y',\n",
              " 'Y',\n",
              " 'Y',\n",
              " 'Y',\n",
              " 'Y',\n",
              " 'Y',\n",
              " 'Y',\n",
              " 'Y',\n",
              " 'Y',\n",
              " 'Y',\n",
              " 'N',\n",
              " 'Y',\n",
              " 'Y',\n",
              " 'Y',\n",
              " 'Y',\n",
              " 'Y',\n",
              " 'Y',\n",
              " 'Y',\n",
              " 'Y',\n",
              " 'Y',\n",
              " 'N',\n",
              " 'Y',\n",
              " 'Y',\n",
              " 'Y',\n",
              " 'Y',\n",
              " 'Y',\n",
              " 'Y',\n",
              " 'Y',\n",
              " 'Y',\n",
              " 'Y',\n",
              " 'Y',\n",
              " 'Y',\n",
              " 'Y',\n",
              " 'Y',\n",
              " 'Y',\n",
              " 'Y',\n",
              " 'Y',\n",
              " 'N',\n",
              " 'Y',\n",
              " 'Y',\n",
              " 'N',\n",
              " 'Y',\n",
              " 'Y',\n",
              " 'Y',\n",
              " 'Y',\n",
              " 'N',\n",
              " 'Y',\n",
              " 'Y',\n",
              " 'N',\n",
              " 'N',\n",
              " 'Y',\n",
              " 'N',\n",
              " 'Y',\n",
              " 'Y',\n",
              " 'Y',\n",
              " 'Y',\n",
              " 'Y',\n",
              " 'Y',\n",
              " 'Y',\n",
              " 'Y',\n",
              " 'N',\n",
              " 'Y',\n",
              " 'N',\n",
              " 'Y',\n",
              " 'N',\n",
              " 'Y',\n",
              " 'Y',\n",
              " 'Y',\n",
              " 'Y',\n",
              " 'Y',\n",
              " 'Y',\n",
              " 'Y',\n",
              " 'Y',\n",
              " 'N',\n",
              " 'Y',\n",
              " 'Y',\n",
              " 'Y',\n",
              " 'Y',\n",
              " 'Y',\n",
              " 'Y',\n",
              " 'N',\n",
              " 'Y',\n",
              " 'Y',\n",
              " 'Y',\n",
              " 'Y',\n",
              " 'Y',\n",
              " 'Y',\n",
              " 'Y',\n",
              " 'Y',\n",
              " 'Y',\n",
              " 'Y',\n",
              " 'Y',\n",
              " 'Y',\n",
              " 'Y',\n",
              " 'N',\n",
              " 'N',\n",
              " 'N',\n",
              " 'Y',\n",
              " 'Y',\n",
              " 'Y',\n",
              " 'N',\n",
              " 'N',\n",
              " 'Y',\n",
              " 'N',\n",
              " 'Y',\n",
              " 'Y',\n",
              " 'Y',\n",
              " 'Y',\n",
              " 'Y',\n",
              " 'Y',\n",
              " 'Y',\n",
              " 'Y',\n",
              " 'Y',\n",
              " 'Y',\n",
              " 'Y',\n",
              " 'Y',\n",
              " 'N',\n",
              " 'Y',\n",
              " 'Y',\n",
              " 'Y',\n",
              " 'Y',\n",
              " 'Y',\n",
              " 'N',\n",
              " 'Y',\n",
              " 'Y',\n",
              " 'Y',\n",
              " 'Y',\n",
              " 'Y',\n",
              " 'N',\n",
              " 'Y',\n",
              " 'Y',\n",
              " 'Y',\n",
              " 'Y',\n",
              " 'Y',\n",
              " 'Y',\n",
              " 'Y',\n",
              " 'Y',\n",
              " 'Y',\n",
              " 'Y',\n",
              " 'N',\n",
              " 'N',\n",
              " 'Y',\n",
              " 'Y',\n",
              " 'Y',\n",
              " 'Y',\n",
              " 'Y',\n",
              " 'N',\n",
              " 'N',\n",
              " 'Y',\n",
              " 'Y',\n",
              " 'Y',\n",
              " 'Y',\n",
              " 'Y',\n",
              " 'Y',\n",
              " 'Y',\n",
              " 'Y',\n",
              " 'Y',\n",
              " 'Y',\n",
              " 'Y',\n",
              " 'Y',\n",
              " 'Y',\n",
              " 'Y',\n",
              " 'Y',\n",
              " 'Y',\n",
              " 'N',\n",
              " 'Y',\n",
              " 'Y',\n",
              " 'N',\n",
              " 'Y',\n",
              " 'N',\n",
              " 'Y',\n",
              " 'Y',\n",
              " 'Y',\n",
              " 'Y',\n",
              " 'Y',\n",
              " 'Y',\n",
              " 'Y',\n",
              " 'Y',\n",
              " 'Y',\n",
              " 'Y',\n",
              " 'N',\n",
              " 'Y',\n",
              " 'Y',\n",
              " 'Y',\n",
              " 'Y',\n",
              " 'Y',\n",
              " 'Y',\n",
              " 'Y',\n",
              " 'Y',\n",
              " 'Y',\n",
              " 'Y',\n",
              " 'Y',\n",
              " 'Y',\n",
              " 'N',\n",
              " 'Y',\n",
              " 'Y',\n",
              " 'Y',\n",
              " 'Y',\n",
              " 'N',\n",
              " 'Y',\n",
              " 'Y',\n",
              " 'Y',\n",
              " 'Y',\n",
              " 'N',\n",
              " 'N',\n",
              " 'Y',\n",
              " 'Y',\n",
              " 'Y',\n",
              " 'Y',\n",
              " 'N',\n",
              " 'Y',\n",
              " 'Y',\n",
              " 'Y',\n",
              " 'Y',\n",
              " 'Y',\n",
              " 'N',\n",
              " 'Y',\n",
              " 'Y',\n",
              " 'Y',\n",
              " 'Y',\n",
              " 'Y',\n",
              " 'Y',\n",
              " 'Y',\n",
              " 'Y',\n",
              " 'Y',\n",
              " 'Y',\n",
              " 'Y',\n",
              " 'N',\n",
              " 'Y',\n",
              " 'N',\n",
              " 'Y',\n",
              " 'Y',\n",
              " 'Y',\n",
              " 'Y',\n",
              " 'N',\n",
              " 'N',\n",
              " 'Y',\n",
              " 'Y',\n",
              " 'Y',\n",
              " 'Y',\n",
              " 'Y',\n",
              " 'Y',\n",
              " 'Y',\n",
              " 'Y',\n",
              " 'Y',\n",
              " 'Y',\n",
              " 'Y',\n",
              " 'Y',\n",
              " 'Y',\n",
              " 'N',\n",
              " 'Y',\n",
              " 'Y',\n",
              " 'Y',\n",
              " 'Y',\n",
              " 'Y',\n",
              " 'Y',\n",
              " 'Y',\n",
              " 'Y',\n",
              " 'Y',\n",
              " 'Y',\n",
              " 'Y',\n",
              " 'N',\n",
              " 'Y',\n",
              " 'Y',\n",
              " 'Y',\n",
              " 'Y',\n",
              " 'N',\n",
              " 'Y',\n",
              " 'Y',\n",
              " 'Y',\n",
              " 'Y',\n",
              " 'Y',\n",
              " 'N',\n",
              " 'Y',\n",
              " 'Y',\n",
              " 'Y',\n",
              " 'Y',\n",
              " 'Y',\n",
              " 'Y',\n",
              " 'Y',\n",
              " 'Y',\n",
              " 'Y',\n",
              " 'Y',\n",
              " 'Y',\n",
              " 'Y',\n",
              " 'N',\n",
              " 'Y',\n",
              " 'Y',\n",
              " 'Y',\n",
              " 'Y',\n",
              " 'Y',\n",
              " 'Y',\n",
              " 'N',\n",
              " 'Y',\n",
              " 'Y',\n",
              " 'Y',\n",
              " 'Y',\n",
              " 'Y',\n",
              " 'Y',\n",
              " 'Y',\n",
              " 'N',\n",
              " 'Y',\n",
              " 'Y',\n",
              " 'Y',\n",
              " 'Y',\n",
              " 'Y',\n",
              " 'Y',\n",
              " 'Y',\n",
              " 'Y',\n",
              " 'Y',\n",
              " 'Y',\n",
              " 'Y',\n",
              " 'Y']"
            ]
          },
          "metadata": {
            "tags": []
          },
          "execution_count": 34
        }
      ]
    },
    {
      "cell_type": "code",
      "metadata": {
        "id": "epoMdefiL_tL",
        "colab": {
          "base_uri": "https://localhost:8080/",
          "height": 419
        },
        "outputId": "7e2b4182-4f2a-4802-8006-dc7166eeae6a"
      },
      "source": [
        "test['Loan_Status']= target\n",
        "sub=test[['Loan_ID', 'Loan_Status']]\n",
        "sub"
      ],
      "execution_count": 35,
      "outputs": [
        {
          "output_type": "execute_result",
          "data": {
            "text/html": [
              "<div>\n",
              "<style scoped>\n",
              "    .dataframe tbody tr th:only-of-type {\n",
              "        vertical-align: middle;\n",
              "    }\n",
              "\n",
              "    .dataframe tbody tr th {\n",
              "        vertical-align: top;\n",
              "    }\n",
              "\n",
              "    .dataframe thead th {\n",
              "        text-align: right;\n",
              "    }\n",
              "</style>\n",
              "<table border=\"1\" class=\"dataframe\">\n",
              "  <thead>\n",
              "    <tr style=\"text-align: right;\">\n",
              "      <th></th>\n",
              "      <th>Loan_ID</th>\n",
              "      <th>Loan_Status</th>\n",
              "    </tr>\n",
              "  </thead>\n",
              "  <tbody>\n",
              "    <tr>\n",
              "      <th>0</th>\n",
              "      <td>LP001015</td>\n",
              "      <td>Y</td>\n",
              "    </tr>\n",
              "    <tr>\n",
              "      <th>1</th>\n",
              "      <td>LP001022</td>\n",
              "      <td>Y</td>\n",
              "    </tr>\n",
              "    <tr>\n",
              "      <th>2</th>\n",
              "      <td>LP001031</td>\n",
              "      <td>Y</td>\n",
              "    </tr>\n",
              "    <tr>\n",
              "      <th>3</th>\n",
              "      <td>LP001035</td>\n",
              "      <td>Y</td>\n",
              "    </tr>\n",
              "    <tr>\n",
              "      <th>4</th>\n",
              "      <td>LP001051</td>\n",
              "      <td>Y</td>\n",
              "    </tr>\n",
              "    <tr>\n",
              "      <th>...</th>\n",
              "      <td>...</td>\n",
              "      <td>...</td>\n",
              "    </tr>\n",
              "    <tr>\n",
              "      <th>362</th>\n",
              "      <td>LP002971</td>\n",
              "      <td>Y</td>\n",
              "    </tr>\n",
              "    <tr>\n",
              "      <th>363</th>\n",
              "      <td>LP002975</td>\n",
              "      <td>Y</td>\n",
              "    </tr>\n",
              "    <tr>\n",
              "      <th>364</th>\n",
              "      <td>LP002980</td>\n",
              "      <td>Y</td>\n",
              "    </tr>\n",
              "    <tr>\n",
              "      <th>365</th>\n",
              "      <td>LP002986</td>\n",
              "      <td>Y</td>\n",
              "    </tr>\n",
              "    <tr>\n",
              "      <th>366</th>\n",
              "      <td>LP002989</td>\n",
              "      <td>Y</td>\n",
              "    </tr>\n",
              "  </tbody>\n",
              "</table>\n",
              "<p>324 rows × 2 columns</p>\n",
              "</div>"
            ],
            "text/plain": [
              "      Loan_ID Loan_Status\n",
              "0    LP001015           Y\n",
              "1    LP001022           Y\n",
              "2    LP001031           Y\n",
              "3    LP001035           Y\n",
              "4    LP001051           Y\n",
              "..        ...         ...\n",
              "362  LP002971           Y\n",
              "363  LP002975           Y\n",
              "364  LP002980           Y\n",
              "365  LP002986           Y\n",
              "366  LP002989           Y\n",
              "\n",
              "[324 rows x 2 columns]"
            ]
          },
          "metadata": {
            "tags": []
          },
          "execution_count": 35
        }
      ]
    },
    {
      "cell_type": "code",
      "metadata": {
        "id": "DUXZOuLkMWks"
      },
      "source": [
        "sub.to_csv('submission.csv')"
      ],
      "execution_count": 36,
      "outputs": []
    }
  ]
}